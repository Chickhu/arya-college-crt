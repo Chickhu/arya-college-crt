{
 "cells": [
  {
   "cell_type": "code",
   "execution_count": 6,
   "metadata": {},
   "outputs": [
    {
     "name": "stdout",
     "output_type": "stream",
     "text": [
      "{'name': 'Alice', 'age': 25, 'city': 'New York'}\n"
     ]
    }
   ],
   "source": [
    "#Write a lambda function to merge two lists into a dictionary where one list represents keys and the other represents values.\n",
    "merge_lists = lambda keys, values: dict(zip(keys, values))\n",
    "\n",
    "# Example usage\n",
    "keys = [\"name\", \"age\", \"city\"]\n",
    "values = [\"Alice\", 25, \"New York\"]\n",
    "\n",
    "result = merge_lists(keys, values)\n",
    "print(result)"
   ]
  },
  {
   "cell_type": "code",
   "execution_count": 2,
   "metadata": {},
   "outputs": [
    {
     "name": "stdout",
     "output_type": "stream",
     "text": [
      "Original Price: 50000\n",
      "Discounted Price: 45000.0\n"
     ]
    }
   ],
   "source": [
    "#Create a class Product with instance variables name and price. Also,add a class variable discount _rate and a method to calculate the\n",
    "#discounted price.\n",
    "class Product:\n",
    "    # Class variable for discount rate (default 10%)\n",
    "    discount_rate = 10  \n",
    "\n",
    "    def __init__(self, name, price):\n",
    "        \"\"\"Initialize product with name and price.\"\"\"\n",
    "        self.name = name\n",
    "        self.price = price\n",
    "\n",
    "    def discounted_price(self):\n",
    "        \"\"\"Calculate the price after applying the discount.\"\"\"\n",
    "        discount = (self.discount_rate / 100) * self.price\n",
    "        return self.price - discount\n",
    "\n",
    " #Example Usage\n",
    "product1 = Product(\"Laptop\", 50000)\n",
    "print(f\"Original Price: {product1.price}\")\n",
    "print(f\"Discounted Price: {product1.discounted_price()}\")"
   ]
  },
  {
   "cell_type": "code",
   "execution_count": 13,
   "metadata": {},
   "outputs": [
    {
     "name": "stdout",
     "output_type": "stream",
     "text": [
      "Circle area:78.54\n",
      "Rectangle area:20.00\n"
     ]
    }
   ],
   "source": [
    "#Create a base class Shape with a method area(. Derive two subclasses Circle and Rectangle, each implementing their own area(\n",
    "#method. (INHERITANCE)\n",
    "import math\n",
    "class Shape:\n",
    "    def area(self):\n",
    "        pass\n",
    "class Circle(Shape):\n",
    "    def __init__(self,radius):\n",
    "        self.radius=radius\n",
    "    def area(self):\n",
    "        return math.pi*self.radius**2\n",
    "class Rectangle(Shape):\n",
    "    def __init__(self,length,width):\n",
    "        self.length=length\n",
    "        self.width=width\n",
    "    def area(self):\n",
    "        return self.length*self.width\n",
    "circle=Circle(5)\n",
    "rectangle=Rectangle(4,5)\n",
    "print(f\"Circle area:{circle.area():.2f}\")\n",
    "print(f\"Rectangle area:{rectangle.area():.2f}\")                            "
   ]
  },
  {
   "cell_type": "code",
   "execution_count": 22,
   "metadata": {},
   "outputs": [
    {
     "name": "stdout",
     "output_type": "stream",
     "text": [
      "Name: Alice, Age: 40\n",
      "Employee ID: MGR101, Salary: 80000\n",
      "Department: IT\n"
     ]
    }
   ],
   "source": [
    "#Create two base classes Person and Employee, and derive a class Manager from both. (MULTIPLE INHERITANCE)\n",
    " #Base class Person\n",
    "class Person:\n",
    "    def __init__(self, name, age):\n",
    "        self.name = name\n",
    "        self.age = age\n",
    "\n",
    "    def display_person_info(self):\n",
    "        print(f\"Name: {self.name}, Age: {self.age}\")\n",
    "\n",
    "# Base class Employee\n",
    "class Employee:\n",
    "    def __init__(self, employee_id, salary):\n",
    "        self.employee_id = employee_id\n",
    "        self.salary = salary\n",
    "\n",
    "    def display_employee_info(self):\n",
    "        print(f\"Employee ID: {self.employee_id}, Salary: {self.salary}\")\n",
    "\n",
    "# Derived class Manager (inherits from both Person and Employee)\n",
    "class Manager(Person, Employee):\n",
    "    def __init__(self, name, age, employee_id, salary, department):\n",
    "        # Initialize both base classes\n",
    "        Person.__init__(self, name, age)\n",
    "        Employee.__init__(self, employee_id, salary)\n",
    "        self.department = department\n",
    "\n",
    "    def display_manager_info(self):\n",
    "        self.display_person_info()\n",
    "        self.display_employee_info()\n",
    "        print(f\"Department: {self.department}\")\n",
    "\n",
    "# Example Usage\n",
    "manager = Manager(\"Alice\", 40, \"MGR101\", 80000, \"IT\")\n",
    "manager.display_manager_info()                   "
   ]
  },
  {
   "cell_type": "code",
   "execution_count": 23,
   "metadata": {},
   "outputs": [
    {
     "name": "stdout",
     "output_type": "stream",
     "text": [
      "Woof! Woof!\n",
      "Meow! Meow!\n",
      "Moo! Moo!\n"
     ]
    }
   ],
   "source": [
    "#Implement a function play_sound0 that accepts different animal objects (Dog, Cat, Cow) and calls their make_sound0 method dynamically. (POLYMORPHISM)\n",
    "# Base class Animal\n",
    "class Animal:\n",
    "    def make_sound(self):\n",
    "        pass\n",
    "\n",
    "# Subclass Dog\n",
    "class Dog(Animal):\n",
    "    def make_sound(self):\n",
    "        return \"Woof! Woof!\"\n",
    "\n",
    "# Subclass Cat\n",
    "class Cat(Animal):\n",
    "    def make_sound(self):\n",
    "        return \"Meow! Meow!\"\n",
    "\n",
    "# Subclass Cow\n",
    "class Cow(Animal):\n",
    "    def make_sound(self):\n",
    "        return \"Moo! Moo!\"\n",
    "\n",
    "# Function to play sound dynamically (Polymorphism)\n",
    "def play_sound(animal):\n",
    "    print(animal.make_sound())\n",
    "\n",
    "# Example Usage\n",
    "dog = Dog()\n",
    "cat = Cat()\n",
    "cow = Cow()\n",
    "\n",
    "play_sound(dog)  # Output: Woof! Woof!\n",
    "play_sound(cat)  # Output: Meow! Meow!\n",
    "play_sound(cow)  # Output: Moo! Moo!"
   ]
  },
  {
   "cell_type": "code",
   "execution_count": 26,
   "metadata": {},
   "outputs": [
    {
     "name": "stdout",
     "output_type": "stream",
     "text": [
      "Car Details:\n",
      "ID: C101, Brand: Toyota, Model: Innova, Rent per day: ₹2500, Status: Available\n",
      "Seating Capacity: 7, Fuel Type: Diesel\n",
      "\n",
      "Bike Details:\n",
      "ID: B201, Brand: Royal Enfield, Model: Classic 350, Rent per day: ₹800, Status: Available\n",
      "Bike Type: Cruiser\n",
      "\n",
      "Renting a car:\n",
      "Toyota Innova has been rented.\n",
      "\n",
      "Trying to rent again:\n",
      "Toyota Innova is already rented.\n",
      "\n",
      "Returning the car:\n",
      "Toyota Innova has been returned and is now available.\n"
     ]
    }
   ],
   "source": [
    "#Design a Car Rental System using 0bject-Oriented Programming (OOP) in Python. The system should include a Vehicle class and derived classes Car and Bike. Implement constructors and use\n",
    "#inheritance to manage common and specific attributes.\n",
    "# Base class: Vehicle\n",
    "class Vehicle:\n",
    "    def __init__(self, vehicle_id, brand, model, rent_per_day):\n",
    "        self.vehicle_id = vehicle_id\n",
    "        self.brand = brand\n",
    "        self.model = model\n",
    "        self.rent_per_day = rent_per_day\n",
    "        self.available = True  # Vehicle is available by default\n",
    "\n",
    "    def display_info(self):\n",
    "        status = \"Available\" if self.available else \"Rented\"\n",
    "        print(f\"ID: {self.vehicle_id}, Brand: {self.brand}, Model: {self.model}, Rent per day: ₹{self.rent_per_day}, Status: {status}\")\n",
    "\n",
    "    def rent_vehicle(self):\n",
    "        if self.available:\n",
    "            self.available = False\n",
    "            print(f\"{self.brand} {self.model} has been rented.\")\n",
    "        else:\n",
    "            print(f\"{self.brand} {self.model} is already rented.\")\n",
    "\n",
    "    def return_vehicle(self):\n",
    "        if not self.available:\n",
    "            self.available = True\n",
    "            print(f\"{self.brand} {self.model} has been returned and is now available.\")\n",
    "        else:\n",
    "            print(f\"{self.brand} {self.model} was not rented.\")\n",
    "\n",
    "# Derived class: Car (inherits from Vehicle)\n",
    "class Car(Vehicle):\n",
    "    def __init__(self, vehicle_id, brand, model, rent_per_day, seating_capacity, fuel_type):\n",
    "        super().__init__(vehicle_id, brand, model, rent_per_day)\n",
    "        self.seating_capacity = seating_capacity\n",
    "        self.fuel_type = fuel_type\n",
    "\n",
    "    def display_info(self):\n",
    "        super().display_info()\n",
    "        print(f\"Seating Capacity: {self.seating_capacity}, Fuel Type: {self.fuel_type}\")\n",
    "\n",
    "# Derived class: Bike (inherits from Vehicle)\n",
    "class Bike(Vehicle):\n",
    "    def __init__(self, vehicle_id, brand, model, rent_per_day, bike_type):\n",
    "        super().__init__(vehicle_id, brand, model, rent_per_day)\n",
    "        self.bike_type = bike_type  # Example: Sports, Cruiser, Commuter\n",
    "\n",
    "    def display_info(self):\n",
    "        super().display_info()\n",
    "        print(f\"Bike Type: {self.bike_type}\")\n",
    "\n",
    "# Example Usage\n",
    "car1 = Car(\"C101\", \"Toyota\", \"Innova\", 2500, 7, \"Diesel\")\n",
    "bike1 = Bike(\"B201\", \"Royal Enfield\", \"Classic 350\", 800, \"Cruiser\")\n",
    "\n",
    "print(\"Car Details:\")\n",
    "car1.display_info()\n",
    "print(\"\\nBike Details:\")\n",
    "bike1.display_info()\n",
    "\n",
    "# Renting and Returning Vehicles\n",
    "print(\"\\nRenting a car:\")\n",
    "car1.rent_vehicle()\n",
    "print(\"\\nTrying to rent again:\")\n",
    "car1.rent_vehicle()\n",
    "print(\"\\nReturning the car:\")\n",
    "car1.return_vehicle()"
   ]
  },
  {
   "cell_type": "code",
   "execution_count": null,
   "metadata": {},
   "outputs": [],
   "source": []
  }
 ],
 "metadata": {
  "kernelspec": {
   "display_name": "base",
   "language": "python",
   "name": "python3"
  },
  "language_info": {
   "codemirror_mode": {
    "name": "ipython",
    "version": 3
   },
   "file_extension": ".py",
   "mimetype": "text/x-python",
   "name": "python",
   "nbconvert_exporter": "python",
   "pygments_lexer": "ipython3",
   "version": "3.12.7"
  }
 },
 "nbformat": 4,
 "nbformat_minor": 2
}
